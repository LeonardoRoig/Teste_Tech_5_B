{
 "cells": [
  {
   "cell_type": "markdown",
   "id": "2483380d",
   "metadata": {},
   "source": [
    "# 📘 ETL_Modelo_Streamlit_B\n",
    "Notebook otimizado para treinar o modelo e exportar apenas o artefato `modelo.joblib`, junto com `train_and_rank.py`, `app.py` e `requirements.txt` para deploy no Streamlit Cloud."
   ]
  },
  {
   "cell_type": "markdown",
   "id": "110395aa",
   "metadata": {},
   "source": [
    "## 1) Imports e Configuração"
   ]
  },
  {
   "cell_type": "code",
   "execution_count": null,
   "id": "20c6d949",
   "metadata": {},
   "outputs": [],
   "source": [
    "\n",
    "import os\n",
    "import pandas as pd\n",
    "import numpy as np\n",
    "from sklearn.model_selection import train_test_split\n",
    "from sklearn.preprocessing import OneHotEncoder\n",
    "from sklearn.compose import ColumnTransformer\n",
    "from sklearn.pipeline import Pipeline\n",
    "from sklearn.ensemble import RandomForestClassifier\n",
    "from sklearn.metrics import classification_report, roc_auc_score\n",
    "import joblib\n",
    "\n",
    "ID_VAGA_COL, ID_CAND_COL, TARGET_COL = \"id_vaga\", \"id_candidato\", \"target\"\n",
    "\n",
    "TRAIN_PATH = \"/content/aprovados_reprovados.csv\"\n",
    "MODEL_PATH = \"/content/modelo.joblib\"\n",
    "EXPORT_DIR = \"/content/artifacts_b\"\n",
    "os.makedirs(EXPORT_DIR, exist_ok=True)\n"
   ]
  },
  {
   "cell_type": "markdown",
   "id": "848d60ac",
   "metadata": {},
   "source": [
    "## 2) Leitura dos Dados de Treino"
   ]
  },
  {
   "cell_type": "code",
   "execution_count": null,
   "id": "607aa2ce",
   "metadata": {},
   "outputs": [],
   "source": [
    "\n",
    "df_train = pd.read_csv(TRAIN_PATH)\n",
    "print(\"Treino:\", df_train.shape)\n",
    "df_train.head()\n"
   ]
  },
  {
   "cell_type": "markdown",
   "id": "040dbf23",
   "metadata": {},
   "source": [
    "## 3) Pré-processamento e Treino"
   ]
  },
  {
   "cell_type": "code",
   "execution_count": null,
   "id": "6ea3ccb3",
   "metadata": {},
   "outputs": [],
   "source": [
    "\n",
    "X, y = df_train.drop(columns=[TARGET_COL]), df_train[TARGET_COL]\n",
    "cat_cols = X.select_dtypes(include=[\"object\"]).columns.tolist()\n",
    "for c in [ID_VAGA_COL, ID_CAND_COL]:\n",
    "    if c in cat_cols: cat_cols.remove(c)\n",
    "preprocessor = ColumnTransformer([(\"cat\", OneHotEncoder(handle_unknown=\"ignore\"), cat_cols)], remainder=\"passthrough\")\n",
    "\n",
    "model = Pipeline([(\"preprocess\", preprocessor),\n",
    "                  (\"clf\", RandomForestClassifier(n_estimators=300, random_state=42))])\n",
    "\n",
    "X_train, X_val, y_train, y_val = train_test_split(X, y, test_size=0.2, stratify=y, random_state=42)\n",
    "model.fit(X_train, y_train)\n",
    "\n",
    "y_pred, y_proba = model.predict(X_val), model.predict_proba(X_val)[:,1]\n",
    "print(classification_report(y_val, y_pred))\n",
    "print(\"ROC AUC:\", roc_auc_score(y_val, y_proba))\n"
   ]
  },
  {
   "cell_type": "markdown",
   "id": "7ca05647",
   "metadata": {},
   "source": [
    "## 4) Salvar Modelo Treinado (`modelo.joblib`)"
   ]
  },
  {
   "cell_type": "code",
   "execution_count": null,
   "id": "b289d7ed",
   "metadata": {},
   "outputs": [],
   "source": [
    "\n",
    "joblib.dump(model, MODEL_PATH)\n",
    "print(f\"Modelo salvo em: {MODEL_PATH}\")\n"
   ]
  },
  {
   "cell_type": "markdown",
   "id": "16a93016",
   "metadata": {},
   "source": [
    "## 5) Exportar `train_and_rank.py`"
   ]
  },
  {
   "cell_type": "code",
   "execution_count": null,
   "id": "72c4b9b3",
   "metadata": {},
   "outputs": [],
   "source": [
    "\n",
    "train_code = \"\"\"\n",
    "import pandas as pd\n",
    "import joblib\n",
    "\n",
    "ID_VAGA_COL, ID_CAND_COL = \"id_vaga\", \"id_candidato\"\n",
    "\n",
    "def load_model(model_path=\"modelo.joblib\"):\n",
    "    return joblib.load(model_path)\n",
    "\n",
    "def rank_candidates(model, df_pending, top_k=10):\n",
    "    df_pred = df_pending.copy()\n",
    "    df_pred[\"score\"] = model.predict_proba(df_pred)[:, 1]\n",
    "    df_pred[\"rank\"] = df_pred.groupby(ID_VAGA_COL)[\"score\"].rank(ascending=False, method=\"first\")\n",
    "    ranking = (\n",
    "        df_pred[df_pred[\"rank\"] <= top_k]\n",
    "        .sort_values([ID_VAGA_COL, \"rank\"])\n",
    "        .reset_index(drop=True)\n",
    "    )\n",
    "    return ranking\n",
    "\"\"\"\n",
    "\n",
    "with open(os.path.join(EXPORT_DIR, \"train_and_rank.py\"), \"w\", encoding=\"utf-8\") as f:\n",
    "    f.write(train_code)\n",
    "print(\"Arquivo train_and_rank.py exportado!\")\n"
   ]
  },
  {
   "cell_type": "markdown",
   "id": "df65b270",
   "metadata": {},
   "source": [
    "## 6) Exportar `app.py`"
   ]
  },
  {
   "cell_type": "code",
   "execution_count": null,
   "id": "1b713548",
   "metadata": {},
   "outputs": [],
   "source": [
    "\n",
    "app_code = \"\"\"\n",
    "import pandas as pd\n",
    "import streamlit as st\n",
    "from train_and_rank import load_model, rank_candidates\n",
    "\n",
    "st.set_page_config(page_title=\"Netflix das Vagas\", layout=\"wide\")\n",
    "st.title(\"🎬 Netflix das Vagas — Top 10 Candidatos por Vaga\")\n",
    "\n",
    "pending_file = st.file_uploader(\"📂 CSV de pendentes (não classificados)\", type=[\"csv\"])\n",
    "\n",
    "if pending_file:\n",
    "    df_pending = pd.read_csv(pending_file)\n",
    "    model = load_model(\"modelo.joblib\")\n",
    "    ranking = rank_candidates(model, df_pending, top_k=10)\n",
    "    st.success(\"✅ Ranking gerado!\")\n",
    "\n",
    "    vagas = sorted(ranking[\"id_vaga\"].unique().tolist())\n",
    "    vaga_sel = st.sidebar.selectbox(\"Selecione a vaga\", vagas)\n",
    "\n",
    "    top = ranking[ranking[\"id_vaga\"] == vaga_sel].sort_values(\"rank\")\n",
    "    st.subheader(f\"Top {len(top)} candidatos para a vaga {vaga_sel}\")\n",
    "\n",
    "    cols = st.columns(5)\n",
    "    for i, (_, row) in enumerate(top.iterrows()):\n",
    "        col = cols[i % 5]\n",
    "        with col:\n",
    "            st.markdown(f\"### 👤 Candidato {row['id_candidato']}\")\n",
    "            st.metric(\"Score\", f\"{row['score']:.3f}\")\n",
    "            st.caption(f\"Rank: {int(row['rank'])}\")\n",
    "\n",
    "    with st.expander(\"📊 Tabela completa da vaga\"):\n",
    "        st.dataframe(top)\n",
    "else:\n",
    "    st.info(\"⏳ Faça upload do CSV de pendentes para rodar o ranking.\")\n",
    "\"\"\"\n",
    "\n",
    "with open(os.path.join(EXPORT_DIR, \"app.py\"), \"w\", encoding=\"utf-8\") as f:\n",
    "    f.write(app_code)\n",
    "print(\"Arquivo app.py exportado!\")\n"
   ]
  },
  {
   "cell_type": "markdown",
   "id": "e8589e7c",
   "metadata": {},
   "source": [
    "## 7) Exportar `requirements.txt`"
   ]
  },
  {
   "cell_type": "code",
   "execution_count": null,
   "id": "68523be2",
   "metadata": {},
   "outputs": [],
   "source": [
    "\n",
    "reqs = \"\"\"pandas==2.2.2\n",
    "numpy==1.26.4\n",
    "scikit-learn==1.4.2\n",
    "streamlit==1.32.0\n",
    "joblib==1.4.2\n",
    "\"\"\"\n",
    "\n",
    "with open(os.path.join(EXPORT_DIR, \"requirements.txt\"), \"w\", encoding=\"utf-8\") as f:\n",
    "    f.write(reqs)\n",
    "print(\"Arquivo requirements.txt exportado!\")\n"
   ]
  }
 ],
 "metadata": {},
 "nbformat": 4,
 "nbformat_minor": 5
}
